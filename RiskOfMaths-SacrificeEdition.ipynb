{
 "cells": [
  {
   "cell_type": "markdown",
   "metadata": {},
   "source": [
    "# How I Played Risk of Rain 2 and made Everyone Suffer for it"
   ]
  },
  {
   "cell_type": "markdown",
   "metadata": {},
   "source": [
    "## Let's get some background on this.\n",
    "----------------------------------------------------\n",
    "#### What it be:\n",
    "*Risk of Rain 2* is third-person roguelike vidya game made by Hopoo Games. It's pretty rad, try it out.\n",
    "#### Why I did this:\n",
    "I wanted to play a vidya game instead of actually doing work so I just did both at the same time.\n",
    "#### What I wanted to achieve:\n",
    "Mostly, I just wanted to play *RoR2*. However, I *did* do some work and tried to see how item drop rates for the **Artifact of Sacrifice** worked as conditions changed."
   ]
  },
  {
   "cell_type": "markdown",
   "metadata": {},
   "source": [
    "# Let me explain this entire experiment real quick.\n",
    "-----\n",
    "## Gameplay Basics:\n",
    "In RoR2, you progress through several 'Zones' until you reach the 'Teleporter' and get the hell out of dodge. These events spawn a beefy boss and an item per player when you beat it. You keep looping through zones and teleporters until you end the run. Runs end either via obliteration, secret boss fight, or dying horribly. The longer you play and the more time you spend in each Zone, the harder things get. Usually, you get items that augment your stats and do weird fun things via different crates and whatnot. However, said crates weren't present for this trial. You'll see why in a second.\n",
    "\n",
    "## Parameters of this test:\n",
    "------\n",
    "### Players - 1\n",
    "Just me. **SO** much easier to keep track of everything that way.\n",
    "\n",
    "### Difficulty - Monsoon\n",
    "It's the baseline hardest difficulty and I'm a gentle masochist.\n",
    "\n",
    "### Target Enemies Killed per Level - 200\n",
    "I figured it'd be good to try and establish a baseline number of enemies I was going to murder each level. This comes into a play a bit more in a second, so be patient.\n",
    "\n",
    "### Character - Bandit.\n",
    "I know he had to be modded in, but he's fun and it was **much** easier to control how many enemies I kill with him.\n",
    "\n",
    "### Artifacts Used - Sacrifice and Command\n",
    "- **Sacrifice** - Item crates and such don't spawn; Enemies drop items instead. Drop rate increases depending on time and difficulty.\n",
    "- **Command** - Instead of dropping a random item, drops become nebulous 'material' that pops up a menu and lets you choose what item you get. This is important because some items cause massive area of effect damage, and that would make it *very* hard to control my enemies killed. Shit spirals **hard** in the late-game.\n",
    "\n",
    "### Teleporter Restrictions\n",
    "Enemies killed during 'Teleporter Events' were not counted towards the Zone total, neither were items dropped during aforementioned event. \n",
    "\n",
    "### Limitations - No Bazaar, Void Fields, or AoE items.\n",
    "I already mentioned my reasoning for not using AoE items, but the Bazaar and Abyss are fun. \n",
    "- **The Bazaar** is a zone that lets you purchase and trade for some items, as well as choosing where you go next. I woulda just used the Bazaar to choose where I end up each stage, but I was running a bit low on Lunar Coins at the time so I decided it was better to not. I did go here once after **Stage 4 - Siren's Call** so that I could grab and item that lets me fist-fight the secret boss.\n",
    "- **Void Fields** - This fun lil zone takes you out of the normal time constraints of the game and puts you in a special murderville. In the Scrappityville Horror, the air is poison and everything wants to kill you *so* much more than usual that they get items of their own. To get out of this darkest-timeline Riverdale, you have to hang around 'Cell Vents' that emit a zone of poison control and survive until they close. These cells drop items whenever they close, offering a pretty nice item boost without increasing the difficulty of the run. After you complete enough cells, the air stops being a dick and you get to walk around until you decide to leave. I **adore** going to this Zone. It makes and breaks runs and adds a fun lil spice to how the game normally plays. However, since the cells *and* enemies drop items, going here would completely bungle my test data. I never get to have fun."
   ]
  },
  {
   "cell_type": "markdown",
   "metadata": {},
   "source": [
    "#### Enough faffing about! Let's get to the data!"
   ]
  },
  {
   "cell_type": "code",
   "execution_count": 25,
   "metadata": {},
   "outputs": [
    {
     "data": {
      "text/html": [
       "<div>\n",
       "<style scoped>\n",
       "    .dataframe tbody tr th:only-of-type {\n",
       "        vertical-align: middle;\n",
       "    }\n",
       "\n",
       "    .dataframe tbody tr th {\n",
       "        vertical-align: top;\n",
       "    }\n",
       "\n",
       "    .dataframe thead th {\n",
       "        text-align: right;\n",
       "    }\n",
       "</style>\n",
       "<table border=\"1\" class=\"dataframe\">\n",
       "  <thead>\n",
       "    <tr style=\"text-align: right;\">\n",
       "      <th></th>\n",
       "      <th>Zone</th>\n",
       "      <th>Location</th>\n",
       "      <th>Time_At_End</th>\n",
       "      <th>E_Normal</th>\n",
       "      <th>E_Elite</th>\n",
       "      <th>E_Total</th>\n",
       "      <th>D_White</th>\n",
       "      <th>D_Green</th>\n",
       "      <th>D_Red</th>\n",
       "      <th>D_Total</th>\n",
       "      <th>L_Coins</th>\n",
       "    </tr>\n",
       "  </thead>\n",
       "  <tbody>\n",
       "    <tr>\n",
       "      <th>0</th>\n",
       "      <td>1</td>\n",
       "      <td>Titanic Plains</td>\n",
       "      <td>7.12</td>\n",
       "      <td>192</td>\n",
       "      <td>8</td>\n",
       "      <td>200</td>\n",
       "      <td>8</td>\n",
       "      <td>4</td>\n",
       "      <td>0</td>\n",
       "      <td>12</td>\n",
       "      <td>1</td>\n",
       "    </tr>\n",
       "    <tr>\n",
       "      <th>1</th>\n",
       "      <td>2</td>\n",
       "      <td>Wetland Aspect</td>\n",
       "      <td>14.51</td>\n",
       "      <td>184</td>\n",
       "      <td>16</td>\n",
       "      <td>200</td>\n",
       "      <td>14</td>\n",
       "      <td>5</td>\n",
       "      <td>0</td>\n",
       "      <td>19</td>\n",
       "      <td>1</td>\n",
       "    </tr>\n",
       "    <tr>\n",
       "      <th>2</th>\n",
       "      <td>3</td>\n",
       "      <td>Rallypoint Delta</td>\n",
       "      <td>21.57</td>\n",
       "      <td>183</td>\n",
       "      <td>17</td>\n",
       "      <td>200</td>\n",
       "      <td>13</td>\n",
       "      <td>8</td>\n",
       "      <td>1</td>\n",
       "      <td>22</td>\n",
       "      <td>1</td>\n",
       "    </tr>\n",
       "    <tr>\n",
       "      <th>3</th>\n",
       "      <td>4</td>\n",
       "      <td>Siren's Call</td>\n",
       "      <td>25.41</td>\n",
       "      <td>177</td>\n",
       "      <td>23</td>\n",
       "      <td>200</td>\n",
       "      <td>18</td>\n",
       "      <td>6</td>\n",
       "      <td>0</td>\n",
       "      <td>24</td>\n",
       "      <td>0</td>\n",
       "    </tr>\n",
       "    <tr>\n",
       "      <th>4</th>\n",
       "      <td>5</td>\n",
       "      <td>Sky Meadow</td>\n",
       "      <td>28.06</td>\n",
       "      <td>181</td>\n",
       "      <td>19</td>\n",
       "      <td>200</td>\n",
       "      <td>14</td>\n",
       "      <td>10</td>\n",
       "      <td>2</td>\n",
       "      <td>26</td>\n",
       "      <td>2</td>\n",
       "    </tr>\n",
       "  </tbody>\n",
       "</table>\n",
       "</div>"
      ],
      "text/plain": [
       "   Zone          Location  Time_At_End  E_Normal  E_Elite  E_Total  D_White  \\\n",
       "0     1    Titanic Plains         7.12       192        8      200        8   \n",
       "1     2    Wetland Aspect        14.51       184       16      200       14   \n",
       "2     3  Rallypoint Delta        21.57       183       17      200       13   \n",
       "3     4      Siren's Call        25.41       177       23      200       18   \n",
       "4     5        Sky Meadow        28.06       181       19      200       14   \n",
       "\n",
       "   D_Green  D_Red  D_Total  L_Coins  \n",
       "0        4      0       12        1  \n",
       "1        5      0       19        1  \n",
       "2        8      1       22        1  \n",
       "3        6      0       24        0  \n",
       "4       10      2       26        2  "
      ]
     },
     "execution_count": 25,
     "metadata": {},
     "output_type": "execute_result"
    }
   ],
   "source": [
    "import pandas as pd\n",
    "import numpy as np\n",
    "import seaborn as sns\n",
    "import matplotlib.pyplot as plt\n",
    "df = pd.read_csv('RoR2SacrificeDrops.csv')\n",
    "df.head()"
   ]
  },
  {
   "cell_type": "markdown",
   "metadata": {},
   "source": [
    "## Hoooooo you know I gotta explain all that.\n",
    "----------------\n",
    "- **Zone** - Tells you which zone number I'm at. Straightforward.\n",
    "- **Location** - Which map I played on! Didn't count the variants since the game doesn't.\n",
    "- **Time_At_End** What the timer was at when the Teleporter Event was completed. Took a bit longer at the start due to spawn rates.\n",
    "- **E_Normal and E_Elite** - Enemies spawn in two varieties: Normal and Elites. Elites have a higher drop rate than Normals, so it was important to log this.\n",
    "- **D_White, D_Green, D_Red** - These describe what kind of drops I got. Items are sorted into three primary categories: Common(White), Uncommon(Green), and Rare(Red). There are two other kinda of items(Lunar/Blue, Boss/Yellow, and Equipment/Orange) but those can't drop outside of specific situations so I didn't count them.\n",
    "- **E_Total and D_Total** - Literally just the totals for enemies and drops respectively."
   ]
  },
  {
   "cell_type": "markdown",
   "metadata": {},
   "source": [
    "## \"But Thom\", you ask \"what can we even do with this?\"\n",
    "A ton of mostly useless but somewhat cool stuff!\n",
    "\n",
    "### What we're gonna find out:\n",
    "- If Location has any bearing on Drop Rates\n",
    "- If Location affects Drop Rarity\n",
    "- If Enemy Types affects Drop Rates\n",
    "- If Enemy Types affects Drop Rarity\n",
    "- If which zone/stage we're in affects Lunar Coin drop chance.\n",
    "\n",
    " Full disclosure, I know the answers to these already because I mod the fuck out of the game, but it'll be fun to scream at data points for a bit."
   ]
  },
  {
   "cell_type": "markdown",
   "metadata": {},
   "source": [
    "### Location Location Location!\n",
    "-----\n",
    "#### Let's do a bit of jiggling. We're gonna see if Location has any bearing on drops, but first, let's see which maps are the most common."
   ]
  },
  {
   "cell_type": "code",
   "execution_count": 78,
   "metadata": {},
   "outputs": [
    {
     "name": "stdout",
     "output_type": "stream",
     "text": [
      "Sky Meadow            4\n",
      "Wetland Aspect        3\n",
      "Scorched Acres        3\n",
      "Abyssal Depths        3\n",
      "Titanic Plains        3\n",
      "Rallypoint Delta      2\n",
      "Distant Roost         2\n",
      "Abandoned Aqueduct    2\n",
      "Siren's Call          1\n",
      "Name: Location, dtype: int64\n"
     ]
    }
   ],
   "source": [
    "print(df['Location'].value_counts())"
   ]
  },
  {
   "cell_type": "markdown",
   "metadata": {},
   "source": [
    "That's right, folks. Best Map, **Scorched Acres**, dropped pretty often. Unfortunately, we got the awful **Abyssal Depths** more often than we got **Siren's Call**. On to seeing if what map we're on has any bearing on drops."
   ]
  },
  {
   "cell_type": "code",
   "execution_count": 35,
   "metadata": {},
   "outputs": [
    {
     "data": {
      "text/plain": [
       "<matplotlib.axes._subplots.AxesSubplot at 0x12be1f850>"
      ]
     },
     "execution_count": 35,
     "metadata": {},
     "output_type": "execute_result"
    },
    {
     "data": {
      "image/png": "[encoded data removed]",
      "text/plain": [
       "<Figure size 432x288 with 1 Axes>"
      ]
     },
     "metadata": {
      "needs_background": "light"
     },
     "output_type": "display_data"
    }
   ],
   "source": [
    "df.groupby(['Location'])['D_Total'].value_counts().unstack().plot(kind='bar', stacked=True)"
   ]
  },
  {
   "cell_type": "markdown",
   "metadata": {},
   "source": [
    "### Oh god that's fucking unreadable. Let's try this again.\n",
    "----\n",
    "So, in *RoR2* Environments/Maps are sorted by which Zone # you're in when you go there. It's sorted as such:\n",
    "- Zone #1 - **Distant Roost** and **Titanic Plains**\n",
    "- Zone #2 - **Abandoned Aqueduct**(shit map) and **Wetland Aspect**\n",
    "- Zone #3 - **Rallypoint Delta** and **Scorches Acres**\n",
    "- Zone #4 - **Abyssal Depths** and **Siren's Call**\n",
    "- Zone #5 - **Sky Meadow**. This is the only option and it's a bit boring.\n",
    "\n",
    "Let's sort these bad bois into their Zone numbers, shall we?"
   ]
  },
  {
   "cell_type": "code",
   "execution_count": 105,
   "metadata": {},
   "outputs": [
    {
     "data": {
      "text/html": [
       "<div>\n",
       "<style scoped>\n",
       "    .dataframe tbody tr th:only-of-type {\n",
       "        vertical-align: middle;\n",
       "    }\n",
       "\n",
       "    .dataframe tbody tr th {\n",
       "        vertical-align: top;\n",
       "    }\n",
       "\n",
       "    .dataframe thead th {\n",
       "        text-align: right;\n",
       "    }\n",
       "</style>\n",
       "<table border=\"1\" class=\"dataframe\">\n",
       "  <thead>\n",
       "    <tr style=\"text-align: right;\">\n",
       "      <th></th>\n",
       "      <th>Zone</th>\n",
       "      <th>Location</th>\n",
       "      <th>Time_At_End</th>\n",
       "      <th>E_Normal</th>\n",
       "      <th>E_Elite</th>\n",
       "      <th>E_Total</th>\n",
       "      <th>D_White</th>\n",
       "      <th>D_Green</th>\n",
       "      <th>D_Red</th>\n",
       "      <th>D_Total</th>\n",
       "      <th>L_Coins</th>\n",
       "      <th>Zone_Number</th>\n",
       "      <th>Drop_Rating</th>\n",
       "      <th>Green_Value</th>\n",
       "      <th>White_Value</th>\n",
       "      <th>Red_Value</th>\n",
       "    </tr>\n",
       "  </thead>\n",
       "  <tbody>\n",
       "    <tr>\n",
       "      <th>0</th>\n",
       "      <td>1</td>\n",
       "      <td>Titanic Plains</td>\n",
       "      <td>7.12</td>\n",
       "      <td>192</td>\n",
       "      <td>8</td>\n",
       "      <td>200</td>\n",
       "      <td>8</td>\n",
       "      <td>4</td>\n",
       "      <td>0</td>\n",
       "      <td>12</td>\n",
       "      <td>1</td>\n",
       "      <td>1</td>\n",
       "      <td>Low</td>\n",
       "      <td>Low</td>\n",
       "      <td>Low</td>\n",
       "      <td>Average</td>\n",
       "    </tr>\n",
       "    <tr>\n",
       "      <th>1</th>\n",
       "      <td>2</td>\n",
       "      <td>Wetland Aspect</td>\n",
       "      <td>14.51</td>\n",
       "      <td>184</td>\n",
       "      <td>16</td>\n",
       "      <td>200</td>\n",
       "      <td>14</td>\n",
       "      <td>5</td>\n",
       "      <td>0</td>\n",
       "      <td>19</td>\n",
       "      <td>1</td>\n",
       "      <td>2</td>\n",
       "      <td>Moderate</td>\n",
       "      <td>Low</td>\n",
       "      <td>Moderate</td>\n",
       "      <td>Average</td>\n",
       "    </tr>\n",
       "    <tr>\n",
       "      <th>2</th>\n",
       "      <td>3</td>\n",
       "      <td>Rallypoint Delta</td>\n",
       "      <td>21.57</td>\n",
       "      <td>183</td>\n",
       "      <td>17</td>\n",
       "      <td>200</td>\n",
       "      <td>13</td>\n",
       "      <td>8</td>\n",
       "      <td>1</td>\n",
       "      <td>22</td>\n",
       "      <td>1</td>\n",
       "      <td>3</td>\n",
       "      <td>Moderate</td>\n",
       "      <td>Low</td>\n",
       "      <td>Moderate</td>\n",
       "      <td>Moderate</td>\n",
       "    </tr>\n",
       "    <tr>\n",
       "      <th>3</th>\n",
       "      <td>4</td>\n",
       "      <td>Siren's Call</td>\n",
       "      <td>25.41</td>\n",
       "      <td>177</td>\n",
       "      <td>23</td>\n",
       "      <td>200</td>\n",
       "      <td>18</td>\n",
       "      <td>6</td>\n",
       "      <td>0</td>\n",
       "      <td>24</td>\n",
       "      <td>0</td>\n",
       "      <td>4</td>\n",
       "      <td>Moderate</td>\n",
       "      <td>Low</td>\n",
       "      <td>High</td>\n",
       "      <td>Average</td>\n",
       "    </tr>\n",
       "    <tr>\n",
       "      <th>4</th>\n",
       "      <td>5</td>\n",
       "      <td>Sky Meadow</td>\n",
       "      <td>28.06</td>\n",
       "      <td>181</td>\n",
       "      <td>19</td>\n",
       "      <td>200</td>\n",
       "      <td>14</td>\n",
       "      <td>10</td>\n",
       "      <td>2</td>\n",
       "      <td>26</td>\n",
       "      <td>2</td>\n",
       "      <td>5</td>\n",
       "      <td>Moderate</td>\n",
       "      <td>Low</td>\n",
       "      <td>Moderate</td>\n",
       "      <td>High</td>\n",
       "    </tr>\n",
       "  </tbody>\n",
       "</table>\n",
       "</div>"
      ],
      "text/plain": [
       "   Zone          Location  Time_At_End  E_Normal  E_Elite  E_Total  D_White  \\\n",
       "0     1    Titanic Plains         7.12       192        8      200        8   \n",
       "1     2    Wetland Aspect        14.51       184       16      200       14   \n",
       "2     3  Rallypoint Delta        21.57       183       17      200       13   \n",
       "3     4      Siren's Call        25.41       177       23      200       18   \n",
       "4     5        Sky Meadow        28.06       181       19      200       14   \n",
       "\n",
       "   D_Green  D_Red  D_Total  L_Coins  Zone_Number Drop_Rating Green_Value  \\\n",
       "0        4      0       12        1            1         Low         Low   \n",
       "1        5      0       19        1            2    Moderate         Low   \n",
       "2        8      1       22        1            3    Moderate         Low   \n",
       "3        6      0       24        0            4    Moderate         Low   \n",
       "4       10      2       26        2            5    Moderate         Low   \n",
       "\n",
       "  White_Value Red_Value  \n",
       "0         Low   Average  \n",
       "1    Moderate   Average  \n",
       "2    Moderate  Moderate  \n",
       "3        High   Average  \n",
       "4    Moderate      High  "
      ]
     },
     "execution_count": 105,
     "metadata": {},
     "output_type": "execute_result"
    }
   ],
   "source": [
    "def _zone_number(data):\n",
    "    if data == \"Titanic Plains\" or data == \"Distant Roost\":\n",
    "        return 1\n",
    "    elif data == \"Abandoned Aqueduct\" or data == \"Wetland Aspect\":\n",
    "        return 2\n",
    "    elif data == \"Rallypoint Delta\" or data == \"Scorched Acres\":\n",
    "        return 3\n",
    "    elif data == \"Abyssal Depths\" or data == \"Siren's Call\":\n",
    "        return 4\n",
    "    else:\n",
    "        return 5\n",
    "\n",
    "df['Zone_Number'] = df[\"Location\"].apply(_zone_number)\n",
    "df.head()"
   ]
  },
  {
   "cell_type": "markdown",
   "metadata": {},
   "source": [
    "**Nice.** Now let's try that again."
   ]
  },
  {
   "cell_type": "code",
   "execution_count": 106,
   "metadata": {},
   "outputs": [
    {
     "data": {
      "text/plain": [
       "<matplotlib.axes._subplots.AxesSubplot at 0x12e5f1490>"
      ]
     },
     "execution_count": 106,
     "metadata": {},
     "output_type": "execute_result"
    },
    {
     "data": {
      "image/png": "[encoded data removed]",
      "text/plain": [
       "<Figure size 432x288 with 1 Axes>"
      ]
     },
     "metadata": {
      "needs_background": "light"
     },
     "output_type": "display_data"
    }
   ],
   "source": [
    "df.groupby(['Zone_Number'])['D_Total'].value_counts().unstack().plot(kind='bar', stacked=True)"
   ]
  },
  {
   "cell_type": "markdown",
   "metadata": {},
   "source": [
    "#### That's... still pretty horrible to look at. One more again.\n",
    "-----\n",
    "To better visualize drop totals, we're going to assign some arbitrary ratings to it."
   ]
  },
  {
   "cell_type": "code",
   "execution_count": 108,
   "metadata": {
    "scrolled": true
   },
   "outputs": [
    {
     "data": {
      "text/html": [
       "<div>\n",
       "<style scoped>\n",
       "    .dataframe tbody tr th:only-of-type {\n",
       "        vertical-align: middle;\n",
       "    }\n",
       "\n",
       "    .dataframe tbody tr th {\n",
       "        vertical-align: top;\n",
       "    }\n",
       "\n",
       "    .dataframe thead th {\n",
       "        text-align: right;\n",
       "    }\n",
       "</style>\n",
       "<table border=\"1\" class=\"dataframe\">\n",
       "  <thead>\n",
       "    <tr style=\"text-align: right;\">\n",
       "      <th></th>\n",
       "      <th>Zone</th>\n",
       "      <th>Location</th>\n",
       "      <th>Time_At_End</th>\n",
       "      <th>E_Normal</th>\n",
       "      <th>E_Elite</th>\n",
       "      <th>E_Total</th>\n",
       "      <th>D_White</th>\n",
       "      <th>D_Green</th>\n",
       "      <th>D_Red</th>\n",
       "      <th>D_Total</th>\n",
       "      <th>L_Coins</th>\n",
       "      <th>Zone_Number</th>\n",
       "      <th>Drop_Rating</th>\n",
       "      <th>Green_Value</th>\n",
       "      <th>White_Value</th>\n",
       "      <th>Red_Value</th>\n",
       "    </tr>\n",
       "  </thead>\n",
       "  <tbody>\n",
       "    <tr>\n",
       "      <th>2</th>\n",
       "      <td>3</td>\n",
       "      <td>Rallypoint Delta</td>\n",
       "      <td>21.57</td>\n",
       "      <td>183</td>\n",
       "      <td>17</td>\n",
       "      <td>200</td>\n",
       "      <td>13</td>\n",
       "      <td>8</td>\n",
       "      <td>1</td>\n",
       "      <td>22</td>\n",
       "      <td>1</td>\n",
       "      <td>3</td>\n",
       "      <td>Moderate</td>\n",
       "      <td>Low</td>\n",
       "      <td>Moderate</td>\n",
       "      <td>Moderate</td>\n",
       "    </tr>\n",
       "    <tr>\n",
       "      <th>7</th>\n",
       "      <td>8</td>\n",
       "      <td>Scorched Acres</td>\n",
       "      <td>39.43</td>\n",
       "      <td>73</td>\n",
       "      <td>127</td>\n",
       "      <td>200</td>\n",
       "      <td>8</td>\n",
       "      <td>23</td>\n",
       "      <td>0</td>\n",
       "      <td>31</td>\n",
       "      <td>1</td>\n",
       "      <td>3</td>\n",
       "      <td>High</td>\n",
       "      <td>Excellent</td>\n",
       "      <td>Low</td>\n",
       "      <td>Average</td>\n",
       "    </tr>\n",
       "    <tr>\n",
       "      <th>12</th>\n",
       "      <td>13</td>\n",
       "      <td>Scorched Acres</td>\n",
       "      <td>58.58</td>\n",
       "      <td>31</td>\n",
       "      <td>169</td>\n",
       "      <td>200</td>\n",
       "      <td>8</td>\n",
       "      <td>21</td>\n",
       "      <td>7</td>\n",
       "      <td>36</td>\n",
       "      <td>0</td>\n",
       "      <td>3</td>\n",
       "      <td>High</td>\n",
       "      <td>Excellent</td>\n",
       "      <td>Low</td>\n",
       "      <td>Phenomenal</td>\n",
       "    </tr>\n",
       "    <tr>\n",
       "      <th>17</th>\n",
       "      <td>18</td>\n",
       "      <td>Rallypoint Delta</td>\n",
       "      <td>76.59</td>\n",
       "      <td>31</td>\n",
       "      <td>169</td>\n",
       "      <td>200</td>\n",
       "      <td>22</td>\n",
       "      <td>29</td>\n",
       "      <td>0</td>\n",
       "      <td>51</td>\n",
       "      <td>1</td>\n",
       "      <td>3</td>\n",
       "      <td>Excellent</td>\n",
       "      <td>Phenomenal</td>\n",
       "      <td>Excellent</td>\n",
       "      <td>Average</td>\n",
       "    </tr>\n",
       "    <tr>\n",
       "      <th>22</th>\n",
       "      <td>23</td>\n",
       "      <td>Scorched Acres</td>\n",
       "      <td>100.43</td>\n",
       "      <td>0</td>\n",
       "      <td>200</td>\n",
       "      <td>200</td>\n",
       "      <td>23</td>\n",
       "      <td>37</td>\n",
       "      <td>1</td>\n",
       "      <td>61</td>\n",
       "      <td>0</td>\n",
       "      <td>3</td>\n",
       "      <td>Phenomenal</td>\n",
       "      <td>Phenomenal</td>\n",
       "      <td>Excellent</td>\n",
       "      <td>Moderate</td>\n",
       "    </tr>\n",
       "  </tbody>\n",
       "</table>\n",
       "</div>"
      ],
      "text/plain": [
       "    Zone          Location  Time_At_End  E_Normal  E_Elite  E_Total  D_White  \\\n",
       "2      3  Rallypoint Delta        21.57       183       17      200       13   \n",
       "7      8    Scorched Acres        39.43        73      127      200        8   \n",
       "12    13    Scorched Acres        58.58        31      169      200        8   \n",
       "17    18  Rallypoint Delta        76.59        31      169      200       22   \n",
       "22    23    Scorched Acres       100.43         0      200      200       23   \n",
       "\n",
       "    D_Green  D_Red  D_Total  L_Coins  Zone_Number Drop_Rating Green_Value  \\\n",
       "2         8      1       22        1            3    Moderate         Low   \n",
       "7        23      0       31        1            3        High   Excellent   \n",
       "12       21      7       36        0            3        High   Excellent   \n",
       "17       29      0       51        1            3   Excellent  Phenomenal   \n",
       "22       37      1       61        0            3  Phenomenal  Phenomenal   \n",
       "\n",
       "   White_Value   Red_Value  \n",
       "2     Moderate    Moderate  \n",
       "7          Low     Average  \n",
       "12         Low  Phenomenal  \n",
       "17   Excellent     Average  \n",
       "22   Excellent    Moderate  "
      ]
     },
     "execution_count": 108,
     "metadata": {},
     "output_type": "execute_result"
    }
   ],
   "source": [
    "def _drop_rating(data):\n",
    "    if data <= 15:\n",
    "        return \"Low\"\n",
    "    elif data >= 16 and data <= 30:\n",
    "        return \"Moderate\"\n",
    "    elif data >= 31 and data <= 45:\n",
    "        return \"High\"\n",
    "    elif data >= 46 and data <= 60:\n",
    "        return \"Excellent\"\n",
    "    else:\n",
    "        return \"Phenomenal\"\n",
    "df['Drop_Rating'] = df[\"D_Total\"].apply(_drop_rating)\n",
    "df.loc[df['Zone_Number'] == 3]"
   ]
  },
  {
   "cell_type": "markdown",
   "metadata": {},
   "source": [
    "### Nice Nice Nice.\n",
    "--------\n",
    "Now let's check what the Drop Rating of each Zone Number is!"
   ]
  },
  {
   "cell_type": "code",
   "execution_count": 109,
   "metadata": {},
   "outputs": [
    {
     "data": {
      "text/plain": [
       "<matplotlib.axes._subplots.AxesSubplot at 0x12e4fb6d0>"
      ]
     },
     "execution_count": 109,
     "metadata": {},
     "output_type": "execute_result"
    },
    {
     "data": {
      "image/png": "[encoded data removed]",
      "text/plain": [
       "<Figure size 432x288 with 1 Axes>"
      ]
     },
     "metadata": {
      "needs_background": "light"
     },
     "output_type": "display_data"
    }
   ],
   "source": [
    "df.groupby(['Zone_Number'])['Drop_Rating'].value_counts().unstack().plot(kind='bar', stacked=True)"
   ]
  },
  {
   "cell_type": "markdown",
   "metadata": {},
   "source": [
    "## Woo! Drop Rating get!\n",
    "----\n",
    "Looks like **Zone 3** has the best drop rating overall with that sweet sweet phenomenal."
   ]
  },
  {
   "cell_type": "markdown",
   "metadata": {},
   "source": [
    "## Next up, we're gonna see what the drop chance for each rarity of item is on each Zone Number.\n",
    "----\n",
    "Let's try assigning a rarity value for each drop type. We'll go with \"Low\", \"Moderate\", \"High\", \"Excellent\", and \"Phenomenal\"."
   ]
  },
  {
   "cell_type": "code",
   "execution_count": 110,
   "metadata": {},
   "outputs": [
    {
     "data": {
      "text/html": [
       "<div>\n",
       "<style scoped>\n",
       "    .dataframe tbody tr th:only-of-type {\n",
       "        vertical-align: middle;\n",
       "    }\n",
       "\n",
       "    .dataframe tbody tr th {\n",
       "        vertical-align: top;\n",
       "    }\n",
       "\n",
       "    .dataframe thead th {\n",
       "        text-align: right;\n",
       "    }\n",
       "</style>\n",
       "<table border=\"1\" class=\"dataframe\">\n",
       "  <thead>\n",
       "    <tr style=\"text-align: right;\">\n",
       "      <th></th>\n",
       "      <th>Zone</th>\n",
       "      <th>Location</th>\n",
       "      <th>Time_At_End</th>\n",
       "      <th>E_Normal</th>\n",
       "      <th>E_Elite</th>\n",
       "      <th>E_Total</th>\n",
       "      <th>D_White</th>\n",
       "      <th>D_Green</th>\n",
       "      <th>D_Red</th>\n",
       "      <th>D_Total</th>\n",
       "      <th>L_Coins</th>\n",
       "      <th>Zone_Number</th>\n",
       "      <th>Drop_Rating</th>\n",
       "      <th>Green_Value</th>\n",
       "      <th>White_Value</th>\n",
       "      <th>Red_Value</th>\n",
       "    </tr>\n",
       "  </thead>\n",
       "  <tbody>\n",
       "    <tr>\n",
       "      <th>0</th>\n",
       "      <td>1</td>\n",
       "      <td>Titanic Plains</td>\n",
       "      <td>7.12</td>\n",
       "      <td>192</td>\n",
       "      <td>8</td>\n",
       "      <td>200</td>\n",
       "      <td>8</td>\n",
       "      <td>4</td>\n",
       "      <td>0</td>\n",
       "      <td>12</td>\n",
       "      <td>1</td>\n",
       "      <td>1</td>\n",
       "      <td>Low</td>\n",
       "      <td>Low</td>\n",
       "      <td>Low</td>\n",
       "      <td>Average</td>\n",
       "    </tr>\n",
       "    <tr>\n",
       "      <th>1</th>\n",
       "      <td>2</td>\n",
       "      <td>Wetland Aspect</td>\n",
       "      <td>14.51</td>\n",
       "      <td>184</td>\n",
       "      <td>16</td>\n",
       "      <td>200</td>\n",
       "      <td>14</td>\n",
       "      <td>5</td>\n",
       "      <td>0</td>\n",
       "      <td>19</td>\n",
       "      <td>1</td>\n",
       "      <td>2</td>\n",
       "      <td>Moderate</td>\n",
       "      <td>Low</td>\n",
       "      <td>Moderate</td>\n",
       "      <td>Average</td>\n",
       "    </tr>\n",
       "    <tr>\n",
       "      <th>2</th>\n",
       "      <td>3</td>\n",
       "      <td>Rallypoint Delta</td>\n",
       "      <td>21.57</td>\n",
       "      <td>183</td>\n",
       "      <td>17</td>\n",
       "      <td>200</td>\n",
       "      <td>13</td>\n",
       "      <td>8</td>\n",
       "      <td>1</td>\n",
       "      <td>22</td>\n",
       "      <td>1</td>\n",
       "      <td>3</td>\n",
       "      <td>Moderate</td>\n",
       "      <td>Low</td>\n",
       "      <td>Moderate</td>\n",
       "      <td>Moderate</td>\n",
       "    </tr>\n",
       "    <tr>\n",
       "      <th>3</th>\n",
       "      <td>4</td>\n",
       "      <td>Siren's Call</td>\n",
       "      <td>25.41</td>\n",
       "      <td>177</td>\n",
       "      <td>23</td>\n",
       "      <td>200</td>\n",
       "      <td>18</td>\n",
       "      <td>6</td>\n",
       "      <td>0</td>\n",
       "      <td>24</td>\n",
       "      <td>0</td>\n",
       "      <td>4</td>\n",
       "      <td>Moderate</td>\n",
       "      <td>Low</td>\n",
       "      <td>High</td>\n",
       "      <td>Average</td>\n",
       "    </tr>\n",
       "    <tr>\n",
       "      <th>4</th>\n",
       "      <td>5</td>\n",
       "      <td>Sky Meadow</td>\n",
       "      <td>28.06</td>\n",
       "      <td>181</td>\n",
       "      <td>19</td>\n",
       "      <td>200</td>\n",
       "      <td>14</td>\n",
       "      <td>10</td>\n",
       "      <td>2</td>\n",
       "      <td>26</td>\n",
       "      <td>2</td>\n",
       "      <td>5</td>\n",
       "      <td>Moderate</td>\n",
       "      <td>Low</td>\n",
       "      <td>Moderate</td>\n",
       "      <td>High</td>\n",
       "    </tr>\n",
       "  </tbody>\n",
       "</table>\n",
       "</div>"
      ],
      "text/plain": [
       "   Zone          Location  Time_At_End  E_Normal  E_Elite  E_Total  D_White  \\\n",
       "0     1    Titanic Plains         7.12       192        8      200        8   \n",
       "1     2    Wetland Aspect        14.51       184       16      200       14   \n",
       "2     3  Rallypoint Delta        21.57       183       17      200       13   \n",
       "3     4      Siren's Call        25.41       177       23      200       18   \n",
       "4     5        Sky Meadow        28.06       181       19      200       14   \n",
       "\n",
       "   D_Green  D_Red  D_Total  L_Coins  Zone_Number Drop_Rating Green_Value  \\\n",
       "0        4      0       12        1            1         Low         Low   \n",
       "1        5      0       19        1            2    Moderate         Low   \n",
       "2        8      1       22        1            3    Moderate         Low   \n",
       "3        6      0       24        0            4    Moderate         Low   \n",
       "4       10      2       26        2            5    Moderate         Low   \n",
       "\n",
       "  White_Value Red_Value  \n",
       "0         Low   Average  \n",
       "1    Moderate   Average  \n",
       "2    Moderate  Moderate  \n",
       "3        High   Average  \n",
       "4    Moderate      High  "
      ]
     },
     "execution_count": 110,
     "metadata": {},
     "output_type": "execute_result"
    }
   ],
   "source": [
    "def _white_value(data):\n",
    "    if data <= 10:\n",
    "        return \"Low\"\n",
    "    elif data >= 11 and data <= 15:\n",
    "        return \"Moderate\"\n",
    "    elif data >= 16 and data <= 20:\n",
    "        return \"High\"\n",
    "    elif data >= 21 and data <= 25:\n",
    "        return \"Excellent\"\n",
    "    else:\n",
    "        return \"Phenomenal\"\n",
    "\n",
    "def _green_value(data):\n",
    "    if data <= 10:\n",
    "        return \"Low\"\n",
    "    elif data >= 11 and data <= 15:\n",
    "        return \"Moderate\"\n",
    "    elif data >= 16 and data <= 20:\n",
    "        return \"High\"\n",
    "    elif data >= 21 and data <= 25:\n",
    "        return \"Excellent\"\n",
    "    else:\n",
    "        return \"Phenomenal\"\n",
    "\n",
    "def _red_value(data):\n",
    "    if data == 0:\n",
    "        return \"Average\"\n",
    "    elif data == 1:\n",
    "        return \"Moderate\"\n",
    "    elif data == 2:\n",
    "        return \"High\"\n",
    "    elif data == 3:\n",
    "        return \"Excellent\"\n",
    "    else:\n",
    "        return \"Phenomenal\"\n",
    "    \n",
    "df['White_Value'] = df[\"D_White\"].apply(_white_value)\n",
    "df['Green_Value'] = df[\"D_Green\"].apply(_green_value)\n",
    "df['Red_Value'] = df[\"D_Red\"].apply(_red_value)\n",
    "df.head()"
   ]
  },
  {
   "cell_type": "markdown",
   "metadata": {},
   "source": [
    "### Now let's see what the values for the Zone Numbers are like. Once more, with feeling!"
   ]
  },
  {
   "cell_type": "code",
   "execution_count": 111,
   "metadata": {},
   "outputs": [
    {
     "data": {
      "image/png": "[encoded data removed]",
      "text/plain": [
       "<Figure size 432x288 with 2 Axes>"
      ]
     },
     "metadata": {
      "needs_background": "light"
     },
     "output_type": "display_data"
    }
   ],
   "source": [
    "plt.show(sns.heatmap(pd.crosstab(df[\"Zone_Number\"], df[\"White_Value\"], normalize='index'), cmap=\"Blues\"))"
   ]
  },
  {
   "cell_type": "code",
   "execution_count": 112,
   "metadata": {},
   "outputs": [
    {
     "data": {
      "image/png": "[encoded data removed]",
      "text/plain": [
       "<Figure size 432x288 with 2 Axes>"
      ]
     },
     "metadata": {
      "needs_background": "light"
     },
     "output_type": "display_data"
    }
   ],
   "source": [
    "plt.show(sns.heatmap(pd.crosstab(df[\"Zone_Number\"], df[\"White_Value\"], normalize='index'), cmap=\"Greens\"))"
   ]
  },
  {
   "cell_type": "code",
   "execution_count": 113,
   "metadata": {},
   "outputs": [
    {
     "data": {
      "image/png": "[encoded data removed]",
      "text/plain": [
       "<Figure size 432x288 with 2 Axes>"
      ]
     },
     "metadata": {
      "needs_background": "light"
     },
     "output_type": "display_data"
    }
   ],
   "source": [
    "plt.show(sns.heatmap(pd.crosstab(df[\"Zone_Number\"], df[\"White_Value\"], normalize='index'), cmap=\"Reds\"))"
   ]
  },
  {
   "cell_type": "markdown",
   "metadata": {},
   "source": [
    "## BUT WHAT DOES IT ALL MEAN????\n",
    "--------\n",
    "It means the **Zone 2s** have the best Common drop chance, **Zones 1-3** are tied for Uncommon drop chance, and **Zone 3s** are the best for Reds!"
   ]
  },
  {
   "cell_type": "markdown",
   "metadata": {},
   "source": [
    "## Aight next up: Enemy Type and Drop Rates\n",
    "-----\n",
    "Now we're going to see the difference between Normal Enemy drops and Elite Enemy Drops."
   ]
  },
  {
   "cell_type": "code",
   "execution_count": 126,
   "metadata": {},
   "outputs": [
    {
     "data": {
      "text/plain": [
       "[<matplotlib.lines.Line2D at 0x12f205310>]"
      ]
     },
     "execution_count": 126,
     "metadata": {},
     "output_type": "execute_result"
    },
    {
     "data": {
      "image/png": "[encoded data removed]",
      "text/plain": [
       "<Figure size 432x288 with 1 Axes>"
      ]
     },
     "metadata": {
      "needs_background": "light"
     },
     "output_type": "display_data"
    }
   ],
   "source": [
    "plt.plot(df['Drop_Rating'], df['E_Normal'], 'o', color='blue')"
   ]
  },
  {
   "cell_type": "code",
   "execution_count": 127,
   "metadata": {},
   "outputs": [
    {
     "data": {
      "text/plain": [
       "[<matplotlib.lines.Line2D at 0x12f42aa50>]"
      ]
     },
     "execution_count": 127,
     "metadata": {},
     "output_type": "execute_result"
    },
    {
     "data": {
      "image/png": "[encoded data removed]",
      "text/plain": [
       "<Figure size 432x288 with 1 Axes>"
      ]
     },
     "metadata": {
      "needs_background": "light"
     },
     "output_type": "display_data"
    }
   ],
   "source": [
    "plt.plot(df['Drop_Rating'], df['E_Elite'], 'o', color='red')"
   ]
  },
  {
   "cell_type": "markdown",
   "metadata": {},
   "source": [
    "### Well that's pretty damning.\n",
    "Drop Rating increases directly with how many Elites are on the field instead of Normals. That's pretty rad."
   ]
  },
  {
   "cell_type": "markdown",
   "metadata": {},
   "source": [
    "## Next Up: More Heatmaps\n",
    "--- \n",
    "Now we're going to see if the Drop Rating for each tier of item increases with Elite presence."
   ]
  },
  {
   "cell_type": "code",
   "execution_count": 152,
   "metadata": {},
   "outputs": [
    {
     "data": {
      "image/png": "[encoded data removed]",
      "text/plain": [
       "<Figure size 432x288 with 2 Axes>"
      ]
     },
     "metadata": {
      "needs_background": "light"
     },
     "output_type": "display_data"
    }
   ],
   "source": [
    "plt.show(sns.heatmap(pd.crosstab(df[\"E_Elite\"], df[\"White_Value\"], normalize='index'), cmap=\"Blues\"))"
   ]
  },
  {
   "cell_type": "code",
   "execution_count": 155,
   "metadata": {},
   "outputs": [
    {
     "data": {
      "image/png": "[encoded data removed]",
      "text/plain": [
       "<Figure size 432x288 with 2 Axes>"
      ]
     },
     "metadata": {
      "needs_background": "light"
     },
     "output_type": "display_data"
    }
   ],
   "source": [
    "plt.show(sns.heatmap(pd.crosstab(df[\"E_Elite\"], df[\"Green_Value\"], normalize='index'), cmap=\"Greens\"))"
   ]
  },
  {
   "cell_type": "code",
   "execution_count": 156,
   "metadata": {},
   "outputs": [
    {
     "data": {
      "image/png": "[encoded data removed]",
      "text/plain": [
       "<Figure size 432x288 with 2 Axes>"
      ]
     },
     "metadata": {
      "needs_background": "light"
     },
     "output_type": "display_data"
    }
   ],
   "source": [
    "plt.show(sns.heatmap(pd.crosstab(df[\"E_Elite\"], df[\"Red_Value\"], normalize='index'), cmap=\"Reds\"))"
   ]
  },
  {
   "cell_type": "markdown",
   "metadata": {},
   "source": [
    "### Results!\n",
    "These appear... mostly unrelated, actually. That's kind of surprising, but I'm here for it."
   ]
  },
  {
   "cell_type": "markdown",
   "metadata": {},
   "source": [
    "## Finally, let's see if Lunar Coins drop rate increases as we play longer."
   ]
  },
  {
   "cell_type": "code",
   "execution_count": 136,
   "metadata": {},
   "outputs": [
    {
     "data": {
      "text/plain": [
       "<matplotlib.axes._subplots.AxesSubplot at 0x12f346810>"
      ]
     },
     "execution_count": 136,
     "metadata": {},
     "output_type": "execute_result"
    },
    {
     "data": {
      "image/png": "[encoded data removed]",
      "text/plain": [
       "<Figure size 432x288 with 1 Axes>"
      ]
     },
     "metadata": {
      "needs_background": "light"
     },
     "output_type": "display_data"
    }
   ],
   "source": [
    "df['L_Coins'].plot.bar()"
   ]
  },
  {
   "cell_type": "markdown",
   "metadata": {},
   "source": [
    "*Kiiiiinda*? But it's really not consistent."
   ]
  },
  {
   "cell_type": "markdown",
   "metadata": {},
   "source": [
    "# Wrapping it all up\n",
    "-----\n",
    "## Conclusions we've drawn:\n",
    "- Location appears to have an effect on Drop Rates, with Zone 3s having the best Drop Rating.\n",
    "- Location appears to have an effect on what tier of item drops. Zone 2s are the best for Commons, Zone 1-3s are tied for Uncommons, and Zone 3s have the best Rare drop rate.\n",
    "- Enemy Type has a direct correlation with drop rate, with the drop rate increasing the more Elites are present.\n",
    "- Enemy type does not appear to affect Drop Rarity. \n",
    "\n",
    "## Issues with the Dataset:\n",
    "- While Zone is an indrect measurement of time spent, none of this has *really* been measured against how Time is affecting any of this. Further data wrangling needed for that.\n",
    "- A lot of these graphs could probably be replaced with better ones. That's a task reserved for when I'm not exhausted.\n",
    "\n",
    "## At the end of the day:\n",
    "#### I had a pretty okay time playing video games for class, but I could really use a nap. Now that I'm done screeching about drop rates, I'm gonna go do that."
   ]
  },
  {
   "cell_type": "code",
   "execution_count": null,
   "metadata": {},
   "outputs": [],
   "source": []
  }
 ],
 "metadata": {
  "kernelspec": {
   "display_name": "Python 3",
   "language": "python",
   "name": "python3"
  },
  "language_info": {
   "codemirror_mode": {
    "name": "ipython",
    "version": 3
   },
   "file_extension": ".py",
   "mimetype": "text/x-python",
   "name": "python",
   "nbconvert_exporter": "python",
   "pygments_lexer": "ipython3",
   "version": "3.7.4"
  }
 },
 "nbformat": 4,
 "nbformat_minor": 4
}
